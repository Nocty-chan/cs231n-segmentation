{
 "cells": [
  {
   "cell_type": "code",
   "execution_count": 1,
   "metadata": {},
   "outputs": [],
   "source": [
    "import torch\n",
    "from torch.utils.data import DataLoader\n",
    "from train import Trainer\n",
    "from generator import *\n",
    "from discriminator import GAN\n",
    "from dataset import CocoStuffDataSet\n",
    "import os, argparse, datetime, json\n",
    "\n",
    "from utils import *\n",
    "NUM_CLASSES = 11\n",
    "SAVE_DIR = \"../checkpoints\" # Assuming this is launched from code/ subfolder.\n",
    "# experiment_name = 'gan_animal'\n",
    "experiment_name = 'animal-nobatchnormalization'\n",
    "experiment_dir = os.path.join(SAVE_DIR, experiment_name)\n",
    "batch_size = 64\n",
    "%matplotlib inline"
   ]
  },
  {
   "cell_type": "code",
   "execution_count": 2,
   "metadata": {},
   "outputs": [
    {
     "ename": "TypeError",
     "evalue": "super() takes at least 1 argument (0 given)",
     "output_type": "error",
     "traceback": [
      "\u001b[0;31m---------------------------------------------------------------------------\u001b[0m",
      "\u001b[0;31mTypeError\u001b[0m                                 Traceback (most recent call last)",
      "\u001b[0;32m<ipython-input-2-d078c32e219d>\u001b[0m in \u001b[0;36m<module>\u001b[0;34m()\u001b[0m\n\u001b[1;32m      1\u001b[0m \u001b[0mHEIGHT\u001b[0m\u001b[0;34m,\u001b[0m \u001b[0mWIDTH\u001b[0m \u001b[0;34m=\u001b[0m \u001b[0;36m128\u001b[0m\u001b[0;34m,\u001b[0m \u001b[0;36m128\u001b[0m\u001b[0;34m\u001b[0m\u001b[0m\n\u001b[0;32m----> 2\u001b[0;31m val_loader = DataLoader(CocoStuffDataSet(mode='val', supercategories=['animal'], height=HEIGHT, width=WIDTH),\n\u001b[0m\u001b[1;32m      3\u001b[0m                             batch_size, shuffle=False)\n\u001b[1;32m      4\u001b[0m train_loader = DataLoader(CocoStuffDataSet(mode='train', supercategories=['animal'], height=HEIGHT, width=WIDTH),\n\u001b[1;32m      5\u001b[0m                             batch_size, shuffle=False)\n",
      "\u001b[0;32m/home/laetitia/workspace/CS231n/cs231n-segmentation/code/dataset.py\u001b[0m in \u001b[0;36m__init__\u001b[0;34m(self, img_dir, annot_dir, mode, height, width, categories, supercategories, do_normalize)\u001b[0m\n\u001b[1;32m     33\u001b[0m                 \u001b[0mt_list\u001b[0m\u001b[0;34m.\u001b[0m\u001b[0mappend\u001b[0m\u001b[0;34m(\u001b[0m\u001b[0mnormalize\u001b[0m\u001b[0;34m(\u001b[0m\u001b[0;34m)\u001b[0m\u001b[0;34m)\u001b[0m\u001b[0;34m\u001b[0m\u001b[0m\n\u001b[1;32m     34\u001b[0m             \u001b[0mtransform\u001b[0m \u001b[0;34m=\u001b[0m \u001b[0mtransforms\u001b[0m\u001b[0;34m.\u001b[0m\u001b[0mCompose\u001b[0m\u001b[0;34m(\u001b[0m\u001b[0mt_list\u001b[0m\u001b[0;34m)\u001b[0m\u001b[0;34m\u001b[0m\u001b[0m\n\u001b[0;32m---> 35\u001b[0;31m         super().__init__(\n\u001b[0m\u001b[1;32m     36\u001b[0m             \u001b[0mroot\u001b[0m\u001b[0;34m=\u001b[0m\u001b[0mimg_dir\u001b[0m \u001b[0;34m+\u001b[0m \u001b[0mmode\u001b[0m \u001b[0;34m+\u001b[0m \u001b[0;34m'2017/'\u001b[0m\u001b[0;34m,\u001b[0m\u001b[0;34m\u001b[0m\u001b[0m\n\u001b[1;32m     37\u001b[0m             \u001b[0mannFile\u001b[0m\u001b[0;34m=\u001b[0m\u001b[0mannot_dir\u001b[0m\u001b[0;34m+\u001b[0m\u001b[0;34m'instances_'\u001b[0m\u001b[0;34m+\u001b[0m\u001b[0mmode\u001b[0m\u001b[0;34m+\u001b[0m\u001b[0;34m'2017.json'\u001b[0m\u001b[0;34m,\u001b[0m\u001b[0;34m\u001b[0m\u001b[0m\n",
      "\u001b[0;31mTypeError\u001b[0m: super() takes at least 1 argument (0 given)"
     ]
    }
   ],
   "source": [
    "HEIGHT, WIDTH = 128, 128\n",
    "val_loader = DataLoader(CocoStuffDataSet(mode='val', supercategories=['animal'], height=HEIGHT, width=WIDTH),\n",
    "                            batch_size, shuffle=False)\n",
    "train_loader = DataLoader(CocoStuffDataSet(mode='train', supercategories=['animal'], height=HEIGHT, width=WIDTH),\n",
    "                            batch_size, shuffle=False)"
   ]
  },
  {
   "cell_type": "code",
   "execution_count": null,
   "metadata": {},
   "outputs": [],
   "source": [
    "generator = SegNet16(NUM_CLASSES)\n",
    "\n",
    "image_shape = (3, HEIGHT, WIDTH)\n",
    "segmentation_shape = (NUM_CLASSES, HEIGHT, WIDTH)\n",
    "# discriminator = GAN(NUM_CLASSES, segmentation_shape, image_shape)\n",
    "discriminator = None\n",
    "trainer = Trainer(generator, discriminator, train_loader, val_loader, \\\n",
    "                experiment_dir=experiment_dir, resume=True, load_iter=None)\n"
   ]
  },
  {
   "cell_type": "code",
   "execution_count": null,
   "metadata": {},
   "outputs": [],
   "source": [
    "def visualize_mask(trainer, loader, number):\n",
    "    total = 0\n",
    "    to_return = []\n",
    "    for data, mask_gt, gt_visual in loader:\n",
    "        if total < number:      \n",
    "            data = data.to(trainer.device)\n",
    "            batch_size = data.size()[0]\n",
    "            total += batch_size\n",
    "            mask_pred = convert_to_mask(trainer._gen(data))\n",
    "            for i in range(len(data)):\n",
    "                img = de_normalize(data[i].detach().cpu().numpy())\n",
    "                gt_mask = gt_visual[i].detach().cpu().numpy()\n",
    "                pred_mask = np.argmax(mask_pred[i].detach().cpu().numpy(), axis=0)\n",
    "                to_return.append((img, gt_mask, pred_mask))\n",
    "                display_image = np.transpose(img, (1, 2, 0))\n",
    "                plt.figure()\n",
    "\n",
    "                plt.subplot(131)\n",
    "                plt.imshow(display_image)\n",
    "                plt.axis('off')\n",
    "                plt.title('original image')\n",
    "\n",
    "                cmap = discrete_cmap(NUM_CLASSES, 'Paired')\n",
    "                norm = colors.NoNorm(vmin=0, vmax=NUM_CLASSES)\n",
    "\n",
    "                plt.subplot(132)\n",
    "                plt.imshow(display_image)\n",
    "                plt.imshow(gt_mask, alpha=0.8, cmap=cmap, norm=norm)\n",
    "                plt.axis('off')\n",
    "                plt.title('real mask')\n",
    "\n",
    "                plt.subplot(133)\n",
    "                plt.imshow(display_image)\n",
    "                plt.imshow(pred_mask, alpha=0.8, cmap=cmap, norm=norm)\n",
    "                plt.axis('off')\n",
    "                plt.title('predicted mask')\n",
    "                plt.show()\n",
    "        else:\n",
    "            break\n",
    "    return to_return"
   ]
  },
  {
   "cell_type": "code",
   "execution_count": null,
   "metadata": {},
   "outputs": [],
   "source": [
    "visualize_mask(trainer, train_loader, 30)"
   ]
  },
  {
   "cell_type": "code",
   "execution_count": null,
   "metadata": {},
   "outputs": [],
   "source": [
    "visualize_mask(trainer, val_loader, 20)"
   ]
  },
  {
   "cell_type": "code",
   "execution_count": null,
   "metadata": {},
   "outputs": [],
   "source": [
    "val_acc = trainer.evaluate_meanIOU(val_loader, ignore_background=True, max_batches=None)\n",
    "print(\"Val meanIOU without background: {}\".format(val_acc))\n",
    "train_acc = trainer.evaluate_meanIOU(train_loader, ignore_background=True)\n",
    "print(\"Train meanIOU without background: {}\".format(train_acc))\n",
    "\n",
    "val_acc = trainer.evaluate_meanIOU(val_loader, ignore_background=False)\n",
    "print(\"Val meanIOU with background: {}\".format(val_acc))\n",
    "train_acc = trainer.evaluate_meanIOU(train_loader, ignore_background=False)\n",
    "print(\"Train meanIOU with background: {}\".format(train_acc))"
   ]
  },
  {
   "cell_type": "code",
   "execution_count": null,
   "metadata": {},
   "outputs": [],
   "source": [
    "## CONFUSION MATRIX ##\n",
    "\n",
    "confusion_matrix = trainer.get_confusion_matrix(val_loader)\n",
    "\n",
    "coco = val_loader.dataset.coco\n",
    "all_cats_names = coco.loadCats(coco.getCatIds())\n",
    "print (all_cats_names)\n",
    "animal_cat_names = [all_cats_names[i] for i in val_loader.dataset.catIds]\n",
    "print (animal_cat_names)"
   ]
  },
  {
   "cell_type": "code",
   "execution_count": null,
   "metadata": {},
   "outputs": [],
   "source": [
    "visualize_conf(confusion_matrix, animal_cat_names)"
   ]
  }
 ],
 "metadata": {
  "kernelspec": {
   "display_name": "Python 3",
   "language": "python",
   "name": "python3"
  },
  "language_info": {
   "codemirror_mode": {
    "name": "ipython",
    "version": 2
   },
   "file_extension": ".py",
   "mimetype": "text/x-python",
   "name": "python",
   "nbconvert_exporter": "python",
   "pygments_lexer": "ipython2",
   "version": "2.7.14"
  }
 },
 "nbformat": 4,
 "nbformat_minor": 2
}
