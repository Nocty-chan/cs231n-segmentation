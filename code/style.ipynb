{
 "cells": [
  {
   "cell_type": "code",
   "execution_count": null,
   "metadata": {},
   "outputs": [],
   "source": [
    "%load_ext autoreload\n",
    "%autoreload 2\n",
    "\n",
    "from style_transfer import *\n",
    "import os\n",
    "import torch\n",
    "import torch.nn as nn\n",
    "import torchvision\n",
    "import torchvision.transforms as T\n",
    "import PIL\n",
    "import numpy as np\n",
    "from scipy.misc import imread\n",
    "import matplotlib.pyplot as plt\n",
    "from torch.utils.data import DataLoader\n",
    "from dataset import CocoStuffDataSet"
   ]
  },
  {
   "cell_type": "code",
   "execution_count": null,
   "metadata": {
    "scrolled": true
   },
   "outputs": [],
   "source": [
    "HEIGHT = WIDTH = 256\n",
    "val_dataset = CocoStuffDataSet(mode='val', supercategories=['animal'], height=HEIGHT, width=WIDTH, do_normalize=False)\n"
   ]
  },
  {
   "cell_type": "code",
   "execution_count": null,
   "metadata": {},
   "outputs": [],
   "source": [
    "dtype = torch.cuda.FloatTensor if torch.cuda.is_available() else torch.FloatTensor\n",
    "cnn = torchvision.models.vgg16(pretrained=True).features\n",
    "cnn.cuda()\n",
    "# cnn.type(dtype)\n",
    "# We don't want to train the model any further, so we don't want PyTorch to waste computation \n",
    "# computing gradients on parameters we're never going to update.\n",
    "for param in cnn.parameters():\n",
    "    param.requires_grad = False\n",
    "style_layers = (0, 5, 10, 17, 24)\n"
   ]
  },
  {
   "cell_type": "code",
   "execution_count": null,
   "metadata": {},
   "outputs": [],
   "source": [
    "def get_style_weights(beta):\n",
    "    style_weights = np.array([100, 100, 10, 10, 1])\n",
    "    return [float(x) for x in beta*style_weights]\n"
   ]
  },
  {
   "cell_type": "code",
   "execution_count": null,
   "metadata": {},
   "outputs": [],
   "source": [
    "def get_savename(content_idx, style_background, style_foreground=None):\n",
    "    name = \"{}_{}\".format(content_idx, style_background.split('.')[0])\n",
    "    if style_foreground:\n",
    "        name += \"_and_{}\".format(style_foreground.split('.')[0])\n",
    "    name += \".png\"\n",
    "    return name"
   ]
  },
  {
   "cell_type": "code",
   "execution_count": null,
   "metadata": {},
   "outputs": [],
   "source": [
    "alpha = 5e-4\n",
    "beta = 1e3\n",
    "gamma = 1e-2\n",
    "savedir = './saved_style_transfers'\n",
    "if not os.path.exists(savedir):\n",
    "    os.makedirs(savedir)\n",
    "style_dir = '../styles/'\n"
   ]
  },
  {
   "cell_type": "code",
   "execution_count": null,
   "metadata": {},
   "outputs": [],
   "source": [
    "backgrounds = ['the_scream.jpg', 'starry_night.jpg', 'composition_vii.jpg', 'tsunami.jpg']\n",
    "foregrounds = ['van_gogh_portrait.jpg', 'guernica.jpg', 'guitar.jpg', 'muse.jpg']\n",
    "background_images = [PIL.Image.open(os.path.join(style_dir, n)) for n in backgrounds]\n",
    "foreground_images = [PIL.Image.open(os.path.join(style_dir, n)) for n in foregrounds]\n",
    "for style_background_name in backgrounds:\n",
    "    for style_foreground_name in foregrounds:\n",
    "        # suggested indices: 417, 77, 55\n",
    "        style_background_image = PIL.Image.open(os.path.join(style_dir, style_background_name))\n",
    "        style_foreground_image = PIL.Image.open(os.path.join(style_dir, style_foreground_name))\n",
    "        for idx in (417, 77, 55):\n",
    "            savename = get_savename(idx, style_background_name, style_foreground_name)\n",
    "            savepath = os.path.join(savedir, savename)\n",
    "            content_image, background_mask = get_image(val_dataset, idx)\n",
    "            foreground_mask = 1.0 - background_mask\n",
    "\n",
    "            transfer_params = {\n",
    "                'cnn' : cnn,\n",
    "                'content_image' : content_image,\n",
    "                'style_image' : style_background_image,\n",
    "                'content_mask': background_mask,\n",
    "                'image_size' : HEIGHT,\n",
    "                'content_layer' : 12,\n",
    "                'content_weight' : alpha,\n",
    "                'style_layers' : style_layers,\n",
    "                'style_weights' : get_style_weights(beta),\n",
    "                'tv_weight' : gamma,\n",
    "                'max_iters' : 1000,\n",
    "                'init_random' : False,\n",
    "                'mask_layer' : True,\n",
    "                'second_style_image' : style_foreground_image \n",
    "            }\n",
    "\n",
    "            final_img, final_loss = style_transfer(**transfer_params)\n",
    "            display_style_transfer(final_img, savepath)"
   ]
  },
  {
   "cell_type": "code",
   "execution_count": null,
   "metadata": {},
   "outputs": [],
   "source": [
    "NUM_CLASSES = 11\n"
   ]
  }
 ],
 "metadata": {
  "kernelspec": {
   "display_name": "Python 3",
   "language": "python",
   "name": "python3"
  },
  "language_info": {
   "codemirror_mode": {
    "name": "ipython",
    "version": 3
   },
   "file_extension": ".py",
   "mimetype": "text/x-python",
   "name": "python",
   "nbconvert_exporter": "python",
   "pygments_lexer": "ipython3",
   "version": "3.5.4"
  }
 },
 "nbformat": 4,
 "nbformat_minor": 2
}
