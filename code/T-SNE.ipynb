{
 "cells": [
  {
   "cell_type": "code",
   "execution_count": null,
   "metadata": {},
   "outputs": [],
   "source": [
    "%load_ext autoreload \n",
    "%autoreload 2 \n",
    "\n",
    "import torch\n",
    "from torch.utils.data import DataLoader\n",
    "\n",
    "import numpy as np\n",
    "from numpy import linalg as LA\n",
    "# Sciki-learn\n",
    "from sklearn.decomposition import PCA\n",
    "from sklearn.manifold import TSNE\n",
    "from sklearn.preprocessing import StandardScaler\n",
    "# Visualisation\n",
    "import matplotlib.pyplot as plt\n",
    "import os \n",
    "\n",
    "from train import Trainer\n",
    "from generator import *\n",
    "from discriminator import GAN\n",
    "from dataset import CocoStuffDataSet\n",
    "from utils import *\n",
    "\n",
    "NUM_CLASSES = 11\n",
    "SAVE_DIR = \"../checkpoints\" # Assuming this is launched from code/ subfolder.\n",
    "# experiment_name = 'gan_animal'\n",
    "# experiment_name = 'animal-batchnorm-50-nobnend'\n",
    "experiment_name = 'gan_low_reg'\n",
    "use_bn = True\n",
    "experiment_dir = os.path.join(SAVE_DIR, experiment_name)\n",
    "batch_size = 64\n",
    "\n",
    "%matplotlib inline"
   ]
  },
  {
   "cell_type": "code",
   "execution_count": null,
   "metadata": {},
   "outputs": [],
   "source": [
    "HEIGHT, WIDTH = 128, 128\n",
    "val_loader = DataLoader(CocoStuffDataSet(mode='val', supercategories=['animal'], height=HEIGHT, width=WIDTH),\n",
    "                            batch_size, shuffle=False)\n",
    "train_loader = DataLoader(CocoStuffDataSet(mode='train', supercategories=['animal'], height=HEIGHT, width=WIDTH),\n",
    "                            batch_size, shuffle=False)"
   ]
  },
  {
   "cell_type": "code",
   "execution_count": null,
   "metadata": {},
   "outputs": [],
   "source": [
    "generator = SegNet16(NUM_CLASSES, use_bn=use_bn)\n",
    "image_shape = (3, HEIGHT, WIDTH)\n",
    "segmentation_shape = (NUM_CLASSES, HEIGHT, WIDTH)\n",
    "discriminator = GAN(NUM_CLASSES, segmentation_shape, image_shape)\n",
    "# discriminator = None\n",
    "trainer = Trainer(generator, discriminator, train_loader, val_loader, \\\n",
    "                experiment_dir=experiment_dir, resume=True, load_iter=None, train_gan=True)\n"
   ]
  },
  {
   "cell_type": "code",
   "execution_count": null,
   "metadata": {},
   "outputs": [],
   "source": [
    "def retrieve_features(trainer, loader, number, mode='gen'):\n",
    "    '''\n",
    "    Retrieves features for at least number images from the loader generator/discriminator\n",
    "    Returns \n",
    "    features ND-array B x feature_size\n",
    "    dominant_classes ND-array size B containing index of dominant class in image\n",
    "    '''\n",
    "    total = 0\n",
    "    to_return = None\n",
    "    dominant_classes = []\n",
    "    for data, mask_gt, gt_visual in loader:\n",
    "        if number is None or total < number:      \n",
    "            data = data.cuda()\n",
    "            batch_size = data.size()[0]\n",
    "            total += batch_size\n",
    "            if mode == 'gen':\n",
    "                features = trainer._gen.get_feature_embedding(data).detach().cpu().numpy() # B x 512 x 4 x 4\n",
    "            else:\n",
    "                features = trainer._disc.get_feature_embedding(data).detach().cpu().numpy() # B x 512 x H x W\n",
    "            features = np.reshape(features, (batch_size, -1))\n",
    "            classes = dominant_class(gt_visual, loader.dataset.numClasses)\n",
    "            if to_return is None:\n",
    "                to_return = features\n",
    "                dominant_classes = classes\n",
    "            else:\n",
    "                to_return = np.concatenate([to_return, features], axis=0)\n",
    "                dominant_classes = np.concatenate([dominant_classes, classes], axis=0)\n",
    "    return to_return, dominant_classes"
   ]
  },
  {
   "cell_type": "code",
   "execution_count": null,
   "metadata": {},
   "outputs": [],
   "source": [
    "def get_embedding_features(trainer, loader, PCA_value):\n",
    "    features, classes = retrieve_features(trainer, loader, None, mode='disc')\n",
    "    print (\"Retrieved features\")\n",
    "    # Standardize features\n",
    "    scaler = StandardScaler()\n",
    "    scaler.fit(features)\n",
    "    std_features = scaler.transform(features)\n",
    "\n",
    "    # Apply PCA to each of the features\n",
    "    pca = PCA(n_components=PCA_value)\n",
    "    pca.fit(std_features)\n",
    "    transformed_features = pca.transform(std_features)\n",
    "\n",
    "    print (\"Applied PCA\")\n",
    "    # Apply t-SNE to the transformed features for visualisation\n",
    "    embedded_features = TSNE(n_components=2).fit_transform(transformed_features)\n",
    "    return embedded_features, classes\n"
   ]
  },
  {
   "cell_type": "code",
   "execution_count": null,
   "metadata": {},
   "outputs": [],
   "source": [
    "def visualize_data(embedded_features, classes):\n",
    "    # Visualise data\n",
    "    fig = plt.figure(1, figsize=(10, 10))\n",
    "    plt.clf()\n",
    "    L = len(set(classes))\n",
    "\n",
    "    # Generate L random colors\n",
    "    colors = [(\n",
    "            np.random.randint(0,255) / 255, \n",
    "            np.random.randint(0,255) / 255, \n",
    "            np.random.randint(0,255) / 255) for i in range(L)]\n",
    "\n",
    "    animal_cat_names = get_category_name_array(val_loader)\n",
    "    for i in range(val_loader.dataset.numClasses - 1):\n",
    "        batch = embedded_features[classes==i]\n",
    "        plt.scatter(batch[:,0], batch[:,1], label=animal_cat_names[i])\n",
    "    plt.legend(loc='lower left', numpoints=1, ncol=1, fontsize=12)\n",
    "    plt.show()"
   ]
  },
  {
   "cell_type": "code",
   "execution_count": null,
   "metadata": {},
   "outputs": [],
   "source": [
    "embedded_features, classes = get_embedding_features(trainer, val_loader, 150)\n"
   ]
  },
  {
   "cell_type": "code",
   "execution_count": null,
   "metadata": {},
   "outputs": [],
   "source": [
    "visualize_data(embedded_features, classes)"
   ]
  },
  {
   "cell_type": "code",
   "execution_count": null,
   "metadata": {},
   "outputs": [],
   "source": []
  }
 ],
 "metadata": {
  "kernelspec": {
   "display_name": "Python 3",
   "language": "python",
   "name": "python3"
  },
  "language_info": {
   "codemirror_mode": {
    "name": "ipython",
    "version": 3
   },
   "file_extension": ".py",
   "mimetype": "text/x-python",
   "name": "python",
   "nbconvert_exporter": "python",
   "pygments_lexer": "ipython3",
   "version": "3.5.4"
  }
 },
 "nbformat": 4,
 "nbformat_minor": 2
}
