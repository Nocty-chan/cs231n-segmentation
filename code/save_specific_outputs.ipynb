{
 "cells": [
  {
   "cell_type": "code",
   "execution_count": null,
   "metadata": {},
   "outputs": [],
   "source": [
    "%load_ext autoreload\n",
    "%autoreload 2\n",
    "\n",
    "import torch\n",
    "from torch.utils.data import DataLoader\n",
    "from train import Trainer\n",
    "from generator import *\n",
    "from discriminator import GAN\n",
    "from dataset import CocoStuffDataSet\n",
    "import os, argparse, datetime, json\n",
    "\n",
    "from utils import *\n",
    "NUM_CLASSES = 11\n",
    "SAVE_DIR = \"../checkpoints\" # Assuming this is launched from code/ subfolder.\n",
    "batch_size = 1\n",
    "print(\"This file is deprecated. RUN!\")"
   ]
  },
  {
   "cell_type": "code",
   "execution_count": null,
   "metadata": {},
   "outputs": [],
   "source": [
    "experiment_name = 'animal-batchnorm-50-nobnend'\n",
    "experiment_dir = os.path.join(SAVE_DIR, experiment_name)"
   ]
  },
  {
   "cell_type": "code",
   "execution_count": null,
   "metadata": {},
   "outputs": [],
   "source": [
    "HEIGHT = WIDTH = 128\n",
    "val_dataset = CocoStuffDataSet(mode='val', supercategories=['animal'], height=HEIGHT, width=WIDTH, do_normalize=False)\n",
    "val_loader = DataLoader(val_dataset, batch_size, shuffle=False)\n",
    "train_loader = DataLoader(CocoStuffDataSet(mode='train', supercategories=['animal'], height=HEIGHT, width=WIDTH),\n",
    "                            batch_size, shuffle=False)"
   ]
  },
  {
   "cell_type": "code",
   "execution_count": null,
   "metadata": {},
   "outputs": [],
   "source": [
    "generator = SegNet16(NUM_CLASSES, use_bn=True)\n",
    "discriminator = None\n",
    "trainer = Trainer(generator, discriminator, train_loader, val_loader, \\\n",
    "                experiment_dir=experiment_dir, resume=True, load_iter=None)"
   ]
  },
  {
   "cell_type": "code",
   "execution_count": null,
   "metadata": {},
   "outputs": [],
   "source": [
    "# for idx in (417, 77, 55):\n",
    "# for idx in (16, 26, 27, 29, 37, 38, 39, 40, 42, 52, 77, 514):\n",
    "for idx in (55,):\n",
    "    savedir = os.path.join('./saved_images_and_masks', str(idx))\n",
    "    if not os.path.exists(savedir):\n",
    "        os.makedirs(savedir)\n",
    "    \n",
    "    img, mask_gt, gt_visual = val_dataset[idx]\n",
    "    torch.save(img, os.path.join(savedir, 'img.pk'))\n",
    "    torch.save(mask_gt[-1], os.path.join(savedir, 'gt_mask.pk')) # only care about background class\n",
    "    img = torch.unsqueeze(img, 0).to(trainer.device)\n",
    "    gen_mask = convert_to_mask(trainer._gen(img))\n",
    "    gen_mask = torch.squeeze(gen_mask, 0)\n",
    "    torch.save(gen_mask[-1], os.path.join(savedir, 'gen_mask.pk'))  # only care about background class\n",
    "    print(\"Finished saving to {}\".format(savedir))\n",
    "    plt.imshow(mask_gt[-1])\n",
    "    plt.show()\n",
    "    plt.imshow(gen_mask[-1])\n",
    "    plt.show()\n",
    "    "
   ]
  },
  {
   "cell_type": "code",
   "execution_count": null,
   "metadata": {},
   "outputs": [],
   "source": []
  }
 ],
 "metadata": {
  "kernelspec": {
   "display_name": "Python 3",
   "language": "python",
   "name": "python3"
  },
  "language_info": {
   "codemirror_mode": {
    "name": "ipython",
    "version": 3
   },
   "file_extension": ".py",
   "mimetype": "text/x-python",
   "name": "python",
   "nbconvert_exporter": "python",
   "pygments_lexer": "ipython3",
   "version": "3.5.4"
  }
 },
 "nbformat": 4,
 "nbformat_minor": 2
}
